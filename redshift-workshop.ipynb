{
 "cells": [
  {
   "cell_type": "markdown",
   "metadata": {},
   "source": [
    "# Redshift Workshop"
   ]
  },
  {
   "cell_type": "markdown",
   "metadata": {},
   "source": [
    "A notebook to connect to the Redshift Cluster."
   ]
  },
  {
   "cell_type": "code",
   "execution_count": 1,
   "metadata": {},
   "outputs": [],
   "source": [
    "# imports\n",
    "import configparser\n",
    "import psycopg2\n",
    "import json\n",
    "import boto3"
   ]
  },
  {
   "cell_type": "code",
   "execution_count": 2,
   "metadata": {},
   "outputs": [],
   "source": [
    "# load params from file - DELETE after use\n",
    "KEY = ''\n",
    "SECRET = ''\n",
    "DWH_IAM_ROLE_NAME = 'RedshiftDay-RedshiftRole-1DPRIKU7AH13E'\n",
    "DWH_CLUSTER_IDENTIFIER = 'redshiftday'\n",
    "DWH_DB_NAME = 'dev'\n",
    "DWH_DB_USER = 'fabryandrea'\n",
    "DWH_DB_PASSWORD = 'Krumplifozelek1'\n",
    "DWH_DB_PORT = 5439"
   ]
  },
  {
   "cell_type": "markdown",
   "metadata": {},
   "source": [
    "### 1. Create IAM client and get roleARN for IAM role 'RedshiftDay-RedshiftRole-1DPRIKU7AH13E' cluster to access S3"
   ]
  },
  {
   "cell_type": "code",
   "execution_count": 3,
   "metadata": {},
   "outputs": [
    {
     "name": "stdout",
     "output_type": "stream",
     "text": [
      "arn:aws:iam::434948855337:role/RedshiftDay-RedshiftRole-1DPRIKU7AH13E\n"
     ]
    }
   ],
   "source": [
    "# create iam role\n",
    "iam = boto3.client('iam',\n",
    "                        region_name=\"us-east-1\",\n",
    "                        aws_access_key_id=KEY,\n",
    "                        aws_secret_access_key=SECRET\n",
    "                  )\n",
    "\n",
    "# get roleArn\n",
    "roleArn = iam.get_role(RoleName=DWH_IAM_ROLE_NAME)['Role']['Arn']\n",
    "\n",
    "print(roleArn)"
   ]
  },
  {
   "cell_type": "markdown",
   "metadata": {},
   "source": [
    "### 2. Get DWH_IAM_ROLE_NAME to Redshift Cluster Created with Cloudformation Template Stack"
   ]
  },
  {
   "cell_type": "code",
   "execution_count": 4,
   "metadata": {},
   "outputs": [],
   "source": [
    "# create client for redshift\n",
    "redshift = boto3.client('redshift',\n",
    "                       region_name='us-east-1',\n",
    "                       aws_access_key_id=KEY,\n",
    "                       aws_secret_access_key=SECRET\n",
    "                       )"
   ]
  },
  {
   "cell_type": "code",
   "execution_count": 5,
   "metadata": {},
   "outputs": [],
   "source": [
    "### get endpoint and ARN AFTER cluster is available\n",
    "myClusterProps = redshift.describe_clusters(ClusterIdentifier=DWH_CLUSTER_IDENTIFIER)['Clusters'][0]\n",
    "DWH_ENDPOINT = myClusterProps['Endpoint']['Address']\n",
    "DWH_ROLE_ARN = myClusterProps['IamRoles'][0]['IamRoleArn']"
   ]
  },
  {
   "cell_type": "markdown",
   "metadata": {},
   "source": [
    "### 3. Connect to Cluster"
   ]
  },
  {
   "cell_type": "code",
   "execution_count": 73,
   "metadata": {},
   "outputs": [],
   "source": [
    "conn = psycopg2.connect(\"host={} dbname={} user={} password={} port={}\".format(DWH_ENDPOINT, DWH_DB_NAME, \n",
    "                                                                               DWH_DB_USER, DWH_DB_PASSWORD, \n",
    "                                                                               DWH_DB_PORT))\n",
    "cur = conn.cursor()"
   ]
  },
  {
   "cell_type": "markdown",
   "metadata": {},
   "source": [
    "### 4. Create Tables"
   ]
  },
  {
   "cell_type": "code",
   "execution_count": 20,
   "metadata": {},
   "outputs": [],
   "source": [
    "# create tables using tables.sql\n",
    "customer_table_create = (\"\"\"\n",
    "CREATE TABLE customer (\n",
    "  c_custkey int8 NOT NULL                                      ,\n",
    "  c_name varchar(25) NOT NULL                                  ,\n",
    "  c_address varchar(40) NOT NULL                               ,\n",
    "  c_nationkey int4 NOT NULL                                    ,\n",
    "  c_phone char(15) NOT NULL                                    ,\n",
    "  c_acctbal numeric(12,2) NOT NULL                             ,\n",
    "  c_mktsegment char(10) NOT NULL                               ,\n",
    "  c_comment varchar(117) NOT NULL)\n",
    "  DISTSTYLE ALL; \n",
    "\"\"\")\n",
    "\n",
    "cur.execute(customer_table_create)\n",
    "conn.commit()"
   ]
  },
  {
   "cell_type": "code",
   "execution_count": 21,
   "metadata": {},
   "outputs": [],
   "source": [
    "lineitem_table_create = (\"\"\"\n",
    "CREATE TABLE lineitem (\n",
    "  l_orderkey int8 NOT NULL DISTKEY                               ,\n",
    "  l_partkey int8 NOT NULL                                        ,\n",
    "  l_suppkey int4 NOT NULL                                        ,\n",
    "  l_linenumber int4 NOT NULL                                     ,\n",
    "  l_quantity numeric(12,2) NOT NULL                              ,\n",
    "  l_extendedprice numeric(12,2) NOT NULL                         ,\n",
    "  l_discount numeric(12,2) NOT NULL                              ,\n",
    "  l_tax numeric(12,2) NOT NULL                                   ,\n",
    "  l_returnflag char(1) NOT NULL                                  ,\n",
    "  l_linestatus char(1) NOT NULL                                  ,\n",
    "  l_shipdate date NOT NULL SORTKEY                               ,\n",
    "  l_yearmonth char(7) NOT NULL                                   ,\n",
    "  l_commitdate date NOT NULL                                     ,\n",
    "  l_receiptdate date NOT NULL                                    ,\n",
    "  l_shipinstruct char(25) NOT NULL                               ,\n",
    "  l_shipmode char(10) NOT NULL                                   ,\n",
    "  l_comment varchar(44) NOT NULL);\n",
    "\"\"\")\n",
    "\n",
    "cur.execute(lineitem_table_create)\n",
    "conn.commit()"
   ]
  },
  {
   "cell_type": "code",
   "execution_count": 22,
   "metadata": {},
   "outputs": [],
   "source": [
    "nation_table_create = (\"\"\"\n",
    "CREATE TABLE nation (\n",
    "  n_nationkey int4 NOT NULL                                      ,\n",
    "  n_name char(25) NOT NULL                                       ,\n",
    "  n_regionkey int4 NOT NULL                                      ,\n",
    "  n_comment varchar(152) NOT NULL)\n",
    "  DISTSTYLE ALL;\n",
    "\"\"\")\n",
    "\n",
    "cur.execute(nation_table_create)\n",
    "conn.commit()"
   ]
  },
  {
   "cell_type": "code",
   "execution_count": 23,
   "metadata": {},
   "outputs": [],
   "source": [
    "orders_table_create = (\"\"\"\n",
    "CREATE TABLE orders (\n",
    "  o_orderkey int8 NOT NULL DISTKEY                               ,\n",
    "  o_custkey int8 NOT NULL                                        ,\n",
    "  o_orderstatus char(1) NOT NULL                                 ,\n",
    "  o_totalprice numeric(12,2) NOT NULL                            ,\n",
    "  o_orderdate date NOT NULL SORTKEY                              ,\n",
    "  o_orderpriority char(15) NOT NULL                              ,\n",
    "  o_clerk char(15) NOT NULL                                      ,\n",
    "  o_shippriority int4 NOT NULL                                   ,\n",
    "  o_comment varchar(79) NOT NULL                                 ,\n",
    "  o_yearmonth char(8) NOT NULL );\n",
    "\"\"\")\n",
    "\n",
    "cur.execute(orders_table_create)\n",
    "conn.commit()"
   ]
  },
  {
   "cell_type": "code",
   "execution_count": 33,
   "metadata": {},
   "outputs": [],
   "source": [
    "part_table_create = (\"\"\"\n",
    "CREATE TABLE part (\n",
    "  p_partkey int8 NOT NULL DISTKEY                                ,\n",
    "  p_name varchar(55) NOT NULL                                    ,\n",
    "  p_mfgr char(25) NOT NULL                                       ,\n",
    "  p_brand char(10) NOT NULL                                      ,\n",
    "  p_type varchar(25) NOT NULL                                    ,\n",
    "  p_size int4 NOT NULL                                           ,\n",
    "  p_container char(10) NOT NULL                                  ,\n",
    "  p_retailprice numeric(12,2) NOT NULL                           ,\n",
    "  p_comment varchar(23) NOT NULL);\n",
    "\"\"\")\n",
    "\n",
    "cur.execute(part_table_create)\n",
    "conn.commit()"
   ]
  },
  {
   "cell_type": "code",
   "execution_count": 24,
   "metadata": {},
   "outputs": [],
   "source": [
    "partsupp_table_create = (\"\"\"\n",
    "CREATE TABLE partsupp (\n",
    "  ps_partkey int8 NOT NULL DISTKEY                               ,\n",
    "  ps_suppkey int4 NOT NULL                                       ,\n",
    "  ps_availqty int4 NOT NULL                                      ,\n",
    "  ps_supplycost numeric(12,2) NOT NULL                           ,\n",
    "  ps_comment varchar(199) NOT NULL);\n",
    "\"\"\")\n",
    "\n",
    "cur.execute(partsupp_table_create)\n",
    "conn.commit()"
   ]
  },
  {
   "cell_type": "code",
   "execution_count": 25,
   "metadata": {},
   "outputs": [],
   "source": [
    "region_table_create = (\"\"\"\n",
    "CREATE TABLE region (\n",
    "  r_regionkey int4 NOT NULL                                      ,\n",
    "  r_name char(25) NOT NULL                                       ,\n",
    "  r_comment varchar(152) NOT NULL)\n",
    " DISTSTYLE ALL; \n",
    "\"\"\")\n",
    "\n",
    "cur.execute(region_table_create)\n",
    "conn.commit()"
   ]
  },
  {
   "cell_type": "code",
   "execution_count": 26,
   "metadata": {},
   "outputs": [],
   "source": [
    "supplier_table_create = (\"\"\"\n",
    "CREATE TABLE supplier (\n",
    "  s_suppkey int4 NOT NULL                                        ,\n",
    "  s_name char(25) NOT NULL                                       ,\n",
    "  s_address varchar(40) NOT NULL                                 ,\n",
    "  s_nationkey int4 NOT NULL                                      ,\n",
    "  s_phone char(15) NOT NULL                                      ,\n",
    "  s_acctbal numeric(12,2) NOT NULL                               ,\n",
    "  s_comment varchar(101) NOT NULL\n",
    ")\n",
    " DISTSTYLE ALL;\n",
    "\"\"\")\n",
    "\n",
    "cur.execute(supplier_table_create)\n",
    "conn.commit()"
   ]
  },
  {
   "cell_type": "markdown",
   "metadata": {},
   "source": [
    "### 5. Load Data from S3 buckets"
   ]
  },
  {
   "cell_type": "code",
   "execution_count": 27,
   "metadata": {},
   "outputs": [],
   "source": [
    "# load data into dev datawarehouse using copy.sql\n",
    "customer_copy = (\"\"\"\n",
    "    COPY customer FROM 's3://reinvent-hass/redshiftdata/customer/customer_'\n",
    "    iam_role '{}'\n",
    "    gzip delimiter '|'\n",
    "    IGNOREHEADER 1 ;\n",
    "\"\"\").format(roleArn)\n",
    "\n",
    "cur.execute(customer_copy)\n",
    "conn.commit()"
   ]
  },
  {
   "cell_type": "code",
   "execution_count": 28,
   "metadata": {},
   "outputs": [],
   "source": [
    "lineitem_copy = (\"\"\"\n",
    "    COPY lineitem FROM 's3://reinvent-hass/redshiftdata/lab/lineitem/lineitem_'\n",
    "    iam_role '{}'\n",
    "    gzip delimiter '|'\n",
    "    IGNOREHEADER 1 ;\n",
    "\"\"\").format(roleArn)\n",
    "\n",
    "cur.execute(lineitem_copy)\n",
    "conn.commit()"
   ]
  },
  {
   "cell_type": "code",
   "execution_count": 29,
   "metadata": {},
   "outputs": [],
   "source": [
    "nation_copy = (\"\"\"\n",
    "    COPY nation FROM 's3://reinvent-hass/redshiftdata/nation/nation_'\n",
    "    iam_role '{}'\n",
    "    gzip delimiter '|'\n",
    "    IGNOREHEADER 1 ;\n",
    "\"\"\").format(roleArn)\n",
    "\n",
    "cur.execute(nation_copy)\n",
    "conn.commit()"
   ]
  },
  {
   "cell_type": "code",
   "execution_count": 38,
   "metadata": {},
   "outputs": [],
   "source": [
    "order_copy = (\"\"\"\n",
    "    COPY orders FROM 's3://reinvent-hass/redshiftdata/lab/orders/orders_'\n",
    "    iam_role '{}'\n",
    "    gzip delimiter '|'\n",
    "    IGNOREHEADER 1 ;\n",
    "\"\"\").format(roleArn)\n",
    "\n",
    "cur.execute(order_copy)\n",
    "conn.commit()"
   ]
  },
  {
   "cell_type": "code",
   "execution_count": 34,
   "metadata": {},
   "outputs": [],
   "source": [
    "part_copy = (\"\"\"\n",
    "    COPY part FROM 's3://reinvent-hass/redshiftdata/part/part_'\n",
    "    iam_role '{}'\n",
    "    gzip delimiter '|'\n",
    "    IGNOREHEADER 1 ;\n",
    "\"\"\").format(roleArn)\n",
    "\n",
    "cur.execute(part_copy)\n",
    "conn.commit()"
   ]
  },
  {
   "cell_type": "code",
   "execution_count": 35,
   "metadata": {},
   "outputs": [],
   "source": [
    "partsupp_copy = (\"\"\"\n",
    "    COPY partsupp FROM 's3://reinvent-hass/redshiftdata/partsupp/partsupp_'\n",
    "    iam_role '{}'\n",
    "    gzip delimiter '|'\n",
    "    IGNOREHEADER 1 ;\n",
    "\"\"\").format(roleArn)\n",
    "\n",
    "cur.execute(partsupp_copy)\n",
    "conn.commit()"
   ]
  },
  {
   "cell_type": "code",
   "execution_count": 36,
   "metadata": {},
   "outputs": [],
   "source": [
    "region_copy = (\"\"\"\n",
    "    COPY region FROM 's3://reinvent-hass/redshiftdata/region/region_'\n",
    "    iam_role '{}'\n",
    "    gzip delimiter '|'\n",
    "    IGNOREHEADER 1 ;\n",
    "\"\"\").format(roleArn)\n",
    "\n",
    "cur.execute(region_copy)\n",
    "conn.commit()"
   ]
  },
  {
   "cell_type": "code",
   "execution_count": 37,
   "metadata": {},
   "outputs": [],
   "source": [
    "supplier_copy = (\"\"\"\n",
    "    COPY supplier FROM 's3://reinvent-hass/redshiftdata/supplier/supplier_'\n",
    "    iam_role '{}'\n",
    "    gzip delimiter '|'\n",
    "    IGNOREHEADER 1 ;\n",
    "\"\"\").format(roleArn)\n",
    "\n",
    "cur.execute(supplier_copy)\n",
    "conn.commit()"
   ]
  },
  {
   "cell_type": "markdown",
   "metadata": {},
   "source": [
    "### 6. Check Tables"
   ]
  },
  {
   "cell_type": "code",
   "execution_count": 40,
   "metadata": {},
   "outputs": [
    {
     "data": {
      "text/plain": [
       "[('customer', 'Y', 'ALL', None, None, None),\n",
       " ('lineitem',\n",
       "  'Y',\n",
       "  'KEY(l_orderkey)',\n",
       "  'l_shipdate',\n",
       "  Decimal('3.33'),\n",
       "  Decimal('1.00')),\n",
       " ('nation', 'Y', 'ALL', None, None, None),\n",
       " ('orders',\n",
       "  'Y',\n",
       "  'KEY(o_orderkey)',\n",
       "  'o_orderdate',\n",
       "  Decimal('5.15'),\n",
       "  Decimal('1.00')),\n",
       " ('part', 'Y', 'KEY(p_partkey)', None, None, Decimal('1.00')),\n",
       " ('partsupp', 'Y', 'KEY(ps_partkey)', None, None, Decimal('1.00')),\n",
       " ('redshift_auto_health_check_1510717', 'Y', 'EVEN', None, None, None),\n",
       " ('region', 'Y', 'ALL', None, None, None),\n",
       " ('supplier', 'Y', 'ALL', None, None, None)]"
      ]
     },
     "execution_count": 40,
     "metadata": {},
     "output_type": "execute_result"
    }
   ],
   "source": [
    "check_tables_query = (\"\"\"\n",
    "select \"table\", encoded, diststyle, sortkey1, skew_sortkey1, skew_rows\n",
    "from svv_table_info\n",
    "order by 1;\n",
    "\"\"\")\n",
    "\n",
    "cur.execute(check_tables_query)\n",
    "record = cur.fetchall()\n",
    "record"
   ]
  },
  {
   "cell_type": "markdown",
   "metadata": {},
   "source": [
    "### 7. Accessing Table Metadata"
   ]
  },
  {
   "cell_type": "code",
   "execution_count": 8,
   "metadata": {},
   "outputs": [
    {
     "data": {
      "text/plain": [
       "[(1, 2, 0), (1, 3, 1), (0, 0, 0), (0, 1, 1)]"
      ]
     },
     "execution_count": 8,
     "metadata": {},
     "output_type": "execute_result"
    }
   ],
   "source": [
    "# get details on the number of nodes and slices\n",
    "nodes_query = (\"\"\"\n",
    "SELECT * FROM STV_SLICES;\n",
    "\"\"\")\n",
    "\n",
    "cur.execute(nodes_query)\n",
    "record = cur.fetchall()\n",
    "record"
   ]
  },
  {
   "cell_type": "code",
   "execution_count": 10,
   "metadata": {},
   "outputs": [
    {
     "data": {
      "text/plain": [
       "[('public', 'supplier', 'ALL', None, 'Y', Decimal('1000000')),\n",
       " ('public', 'customer', 'ALL', None, 'Y', Decimal('15000000')),\n",
       " ('public', 'region', 'ALL', None, 'Y', Decimal('5')),\n",
       " ('public', 'partsupp', 'KEY(ps_partkey)', None, 'Y', Decimal('80000000')),\n",
       " ('public',\n",
       "  'lineitem',\n",
       "  'KEY(l_orderkey)',\n",
       "  'l_shipdate',\n",
       "  'Y',\n",
       "  Decimal('250921587')),\n",
       " ('public', 'nation', 'ALL', None, 'Y', Decimal('25')),\n",
       " ('public', 'part', 'KEY(p_partkey)', None, 'Y', Decimal('20000000')),\n",
       " ('public',\n",
       "  'orders',\n",
       "  'KEY(o_orderkey)',\n",
       "  'o_orderdate',\n",
       "  'Y',\n",
       "  Decimal('58922329'))]"
      ]
     },
     "execution_count": 10,
     "metadata": {},
     "output_type": "execute_result"
    }
   ],
   "source": [
    "# retrieve table definition details\n",
    "table_definition_query = (\"\"\"\n",
    "SELECT \"schema\", \"table\", diststyle, sortkey1, encoded, tbl_rows FROM SVV_TABLE_INFO\n",
    "WHERE \"schema\" = 'public';\n",
    "\"\"\")\n",
    "\n",
    "cur.execute(table_definition_query)\n",
    "record = cur.fetchall()\n",
    "record"
   ]
  },
  {
   "cell_type": "markdown",
   "metadata": {},
   "source": [
    "### 8. Quering Amazon Redshift"
   ]
  },
  {
   "cell_type": "code",
   "execution_count": 12,
   "metadata": {},
   "outputs": [
    {
     "data": {
      "text/plain": [
       "(Decimal('9999.79'),\n",
       " 'Supplier#000722871       ',\n",
       " 'MOROCCO                  ',\n",
       " 8222854,\n",
       " 'Manufacturer#1           ',\n",
       " 'LbE wuB9WRGYkmClMcroCLHReXHf ZDYxnw',\n",
       " '25-519-939-9174',\n",
       " ' are along the carefully regular deposits. furiously even asymptotes boost blithely eve')"
      ]
     },
     "execution_count": 12,
     "metadata": {},
     "output_type": "execute_result"
    }
   ],
   "source": [
    "# lowest supply in Africa\n",
    "lowest_cost_query = (\"\"\"\n",
    "select s_acctbal, s_name, n_name, p_partkey, p_mfgr, s_address, s_phone, s_comment\n",
    "from\n",
    "part, supplier, partsupp, nation, region\n",
    "where\n",
    "    p_partkey = ps_partkey\n",
    "    and s_suppkey = ps_suppkey\n",
    "    and p_size = 5\n",
    "    and p_type like '%TIN'\n",
    "    and s_nationkey = n_nationkey\n",
    "    and n_regionkey = r_regionkey\n",
    "    and r_name = 'AFRICA'\n",
    "    and ps_supplycost = (\n",
    "        select\n",
    "            min(ps_supplycost)\n",
    "                from partsupp, supplier, nation, region\n",
    "                where\n",
    "                    p_partkey = ps_partkey\n",
    "                    and s_suppkey = ps_suppkey\n",
    "                    and s_nationkey = n_nationkey\n",
    "                    and n_regionkey = r_regionkey\n",
    "                    and r_name = 'AFRICA')\n",
    "order by\n",
    "s_acctbal desc,\n",
    "n_name,\n",
    "s_name,\n",
    "p_partkey\n",
    "limit 100;\n",
    "\"\"\")\n",
    "\n",
    "cur.execute(lowest_cost_query)\n",
    "record = cur.fetchall()\n",
    "record[0]"
   ]
  },
  {
   "cell_type": "code",
   "execution_count": 14,
   "metadata": {},
   "outputs": [
    {
     "data": {
      "text/plain": [
       "(Decimal('9999.31'),\n",
       " 'Supplier#000288711       ',\n",
       " 'MOZAMBIQUE               ',\n",
       " 1288710,\n",
       " 'Manufacturer#5           ',\n",
       " 'AkOP365vhvxCMT',\n",
       " '26-959-957-9870',\n",
       " 'uests are carefully. blithely special packages nag carefully')"
      ]
     },
     "execution_count": 14,
     "metadata": {},
     "output_type": "execute_result"
    }
   ],
   "source": [
    "record[2]"
   ]
  },
  {
   "cell_type": "code",
   "execution_count": 30,
   "metadata": {},
   "outputs": [
    {
     "data": {
      "text/plain": [
       "[('N',\n",
       "  'O',\n",
       "  Decimal('6282167762.00'),\n",
       "  Decimal('9420174466600.30'),\n",
       "  Decimal('8949182874374.16'),\n",
       "  Decimal('9307160431906.65'),\n",
       "  Decimal('25.49'),\n",
       "  Decimal('38236.62'),\n",
       "  Decimal('0.04'),\n",
       "  246365233)]"
      ]
     },
     "execution_count": 30,
     "metadata": {},
     "output_type": "execute_result"
    }
   ],
   "source": [
    "# summarizing lineitems\n",
    "agg_query = (\"\"\"\n",
    "SELECT   l_returnflag, \n",
    "         l_linestatus, \n",
    "         Sum(l_quantity)                                                                     AS sum_qty,\n",
    "         Sum(l_extendedprice)                                                                AS sum_base_price,\n",
    "         Sum(l_extendedprice                * (1 - l_discount))::decimal(38,2)               AS sum_disc_price,\n",
    "         sum(l_extendedprice::decimal(38,2) * (1 - l_discount) * (1 + l_tax))::decimal(38,2) AS sum_charge,\n",
    "         avg(l_quantity)                                                                     AS avg_qty,\n",
    "         avg(l_extendedprice)                                                                AS avg_price,\n",
    "         avg(l_discount)                                                                     AS avg_disc,\n",
    "         count(*)                                                                            AS count_order\n",
    "FROM     lineitem \n",
    "WHERE    l_shipdate <= cast ( date '1998-12-01' - interval '66 days' AS date ) \n",
    "GROUP BY l_returnflag, \n",
    "         l_linestatus \n",
    "ORDER BY l_returnflag, \n",
    "         l_linestatus;\n",
    "\"\"\")\n",
    "\n",
    "cur.execute(agg_query)\n",
    "record = cur.fetchall()\n",
    "record"
   ]
  },
  {
   "cell_type": "code",
   "execution_count": 80,
   "metadata": {},
   "outputs": [
    {
     "data": {
      "text/plain": [
       "[]"
      ]
     },
     "execution_count": 80,
     "metadata": {},
     "output_type": "execute_result"
    }
   ],
   "source": [
    "# join customers to their orders\n",
    "join_query = (\"\"\"\n",
    "SELECT   l_orderkey, \n",
    "         SUM(l_extendedprice * (1 - l_discount)) AS revenue, \n",
    "         o_orderdate, \n",
    "         o_shippriority \n",
    "FROM     customer, \n",
    "         orders, \n",
    "         lineitem \n",
    "WHERE    c_mktsegment = 'HOUSEHOLD' \n",
    "AND      c_custkey = o_custkey \n",
    "AND      l_orderkey = o_orderkey \n",
    "AND      o_orderdate < DATE '1995-03-02' \n",
    "AND      l_shipdate >  DATE '1995-03-02' \n",
    "GROUP BY l_orderkey, \n",
    "         o_orderdate, \n",
    "         o_shippriority \n",
    "ORDER BY revenue DESC, \n",
    "         o_orderdate\n",
    "LIMIT 10;\n",
    "\"\"\")\n",
    "\n",
    "cur.execute(join_query)\n",
    "record = cur.fetchall()\n",
    "record"
   ]
  },
  {
   "cell_type": "code",
   "execution_count": 39,
   "metadata": {},
   "outputs": [
    {
     "data": {
      "text/plain": [
       "(456350,\n",
       " 'Customer#000456350',\n",
       " 'IaJsxLLWvYQ4Y6dBeWgtBiNM7P5KdzEvu',\n",
       " 21,\n",
       " '31-987-899-8935',\n",
       " Decimal('627.58'),\n",
       " 'HOUSEHOLD ',\n",
       " ' platelets. ironic theodolites need to haggle according to the silent, special packages.')"
      ]
     },
     "execution_count": 39,
     "metadata": {},
     "output_type": "execute_result"
    }
   ],
   "source": [
    "ord2cust_query = (\"\"\"\n",
    "SELECT   * \n",
    "FROM     customer\n",
    "WHERE    c_mktsegment = 'HOUSEHOLD' \n",
    "limit 10;\n",
    "\"\"\")\n",
    "\n",
    "cur.execute(ord2cust_query)\n",
    "record = cur.fetchall()\n",
    "record[0]"
   ]
  },
  {
   "cell_type": "markdown",
   "metadata": {},
   "source": [
    "### 9. Query Performance and Troubleshooting"
   ]
  },
  {
   "cell_type": "code",
   "execution_count": 40,
   "metadata": {},
   "outputs": [
    {
     "data": {
      "text/plain": [
       "(570, \"select * from STV_FDISK_STATS where name = 'blocks_to_backup'\")"
      ]
     },
     "execution_count": 40,
     "metadata": {},
     "output_type": "execute_result"
    }
   ],
   "source": [
    "# query STL table\n",
    "\n",
    "check_query_history = (\"\"\"\n",
    "select query, TRIM(querytxt) as sqlquery\n",
    "from stl_query\n",
    "order by query desc \n",
    "limit 5;\n",
    "\"\"\")\n",
    "\n",
    "cur.execute(check_query_history)\n",
    "record = cur.fetchall()\n",
    "record[0]"
   ]
  },
  {
   "cell_type": "code",
   "execution_count": 42,
   "metadata": {},
   "outputs": [
    {
     "data": {
      "text/plain": [
       "[(570, \"select * from STV_FDISK_STATS where name = 'blocks_to_backup'\"),\n",
       " (569,\n",
       "  \"select count(distinct id) from pg_catalog.stv_tbl_perm where temp = false and db_id > 1 and id not in (select oid from pg_class where relname like 'redshift_auto_health_check_%' and relnamespace in (select oid from pg_namespace where nspname='pg_internal'))\"),\n",
       " (568,\n",
       "  \"select node_num,value from stv_fdisk_stats where name='blocks_allocated_total'\"),\n",
       " (567, 'Select * from pg_internal.redshift_auto_health_check_1510717'),\n",
       " (566, \"SELECT * FROM customer WHERE c_mktsegment = 'HOUSEHOLD' limit 10;\")]"
      ]
     },
     "execution_count": 42,
     "metadata": {},
     "output_type": "execute_result"
    }
   ],
   "source": [
    "record"
   ]
  },
  {
   "cell_type": "code",
   "execution_count": 45,
   "metadata": {},
   "outputs": [
    {
     "data": {
      "text/plain": [
       "[(\" COPY lineitem FROM 's3://reinvent-hass/redshiftdata/lab/lineitem/lineitem_' iam_role '' gzip delimiter '|' IGNOREHEADER 1 ;                                                                                                                                                                                                                                                                                                                                                                                                                                                                                                                                                                                                                                                                                                                                                                                                                                                                                                                                                                                                                                                                                                                                                                                                                                                                                                                                                                                                                                                                                                                                                                                                                                                                                                                                                                                                                                                                                                                                                                                                                                                                                                                                                                                                                                                                                                                                                                                                                                                                                                                                                                                                                                                                                                                                                                                                                                                                                                                                                                                                                                                                                                                                                                                                                                                                                                                                                                                                                                                                                                                                                                                                                                                                                                                                                                                                                                                                                                                                                                                                                                    \",\n",
       "  1282500000,\n",
       "  250872732,\n",
       "  0,\n",
       "  36358,\n",
       "  5576,\n",
       "  91),\n",
       " (\" COPY partsupp FROM 's3://reinvent-hass/redshiftdata/partsupp/partsupp_' iam_role '' gzip delimiter '|' IGNOREHEADER 1 ;                                                                                                                                                                                                                                                                                                                                                                                                                                                                                                                                                                                                                                                                                                                                                                                                                                                                                                                                                                                                                                                                                                                                                                                                                                                                                                                                                                                                                                                                                                                                                                                                                                                                                                                                                                                                                                                                                                                                                                                                                                                                                                                                                                                                                                                                                                                                                                                                                                                                                                                                                                                                                                                                                                                                                                                                                                                                                                                                                                                                                                                                                                                                                                                                                                                                                                                                                                                                                                                                                                                                                                                                                                                                                                                                                                                                                                                                                                                                                                                                                                        \",\n",
       "  353910000,\n",
       "  79860882,\n",
       "  0,\n",
       "  -1,\n",
       "  1200,\n",
       "  19),\n",
       " (\" COPY orders FROM 's3://reinvent-hass/redshiftdata/lab/orders/orders_' iam_role '' gzip delimiter '|' IGNOREHEADER 1 ;                                                                                                                                                                                                                                                                                                                                                                                                                                                                                                                                                                                                                                                                                                                                                                                                                                                                                                                                                                                                                                                                                                                                                                                                                                                                                                                                                                                                                                                                                                                                                                                                                                                                                                                                                                                                                                                                                                                                                                                                                                                                                                                                                                                                                                                                                                                                                                                                                                                                                                                                                                                                                                                                                                                                                                                                                                                                                                                                                                                                                                                                                                                                                                                                                                                                                                                                                                                                                                                                                                                                                                                                                                                                                                                                                                                                                                                                                                                                                                                                                                          \",\n",
       "  234940000,\n",
       "  58922329,\n",
       "  0,\n",
       "  5912,\n",
       "  932,\n",
       "  14)]"
      ]
     },
     "execution_count": 45,
     "metadata": {},
     "output_type": "execute_result"
    }
   ],
   "source": [
    "# Find Top Queries by Duration, Number of reads, Memory to Disk\n",
    "check_top_queries = (\"\"\"\n",
    "SELECT querytxt, MAX(CPU_TIME) AS cpu_time_micro, MAX(ROWS) AS ROWS, MAX(BLOCKS_READ)AS blocks_read, \n",
    "MAX(blocks_to_disk)as MB_to_Disk, SUM(run_time/1000000)as time_sec, SUM((run_time/1000000)/60)as time_minutes  FROM STL_QUERY AS Q \n",
    "JOIN STL_QUERY_METRICS AS M\n",
    "ON Q.query = M.query \n",
    "GROUP BY querytxt\n",
    "ORDER BY time_sec desc;\n",
    "\"\"\")\n",
    "\n",
    "cur.execute(check_top_queries)\n",
    "record = cur.fetchall()\n",
    "record[0:3]"
   ]
  },
  {
   "cell_type": "code",
   "execution_count": 46,
   "metadata": {},
   "outputs": [
    {
     "data": {
      "text/plain": [
       "[(582,\n",
       "  'SELECT querytxt, MAX(CPU_TIME) AS cpu_time_micro, MAX(ROWS) AS ROWS, MAX(BLOCKS_READ)AS blocks_read, MAX(blocks_to_disk)as MB_to_Disk, SUM(run_time/1000000)as time_sec, SUM((run_time/1000000)/60)as time_minutes FROM STL_QUERY AS Q JOIN STL_QUERY_METRICS AS M ON Q.query = M.query GROUP BY querytxt ORDER BY time_sec desc;'),\n",
       " (577,\n",
       "  'select query, TRIM(querytxt) as sqlquery from stl_query order by query desc limit 5;'),\n",
       " (576,\n",
       "  'select query, TRIM(querytxt) as sqlquery from stl_query order by query desc limit 5;')]"
      ]
     },
     "execution_count": 46,
     "metadata": {},
     "output_type": "execute_result"
    }
   ],
   "source": [
    "# get ID of most recent query\n",
    "get_id = (\"\"\"\n",
    "select query, trim(querytxt) as sqlquery\n",
    "from stl_query\n",
    "where label not in ('metrics','health')\n",
    "order by query desc limit 40;\n",
    "\"\"\")\n",
    "\n",
    "cur.execute(get_id)\n",
    "record = cur.fetchall()\n",
    "record[0:3]"
   ]
  },
  {
   "cell_type": "code",
   "execution_count": 47,
   "metadata": {},
   "outputs": [
    {
     "data": {
      "text/plain": [
       "[(577, 0, 0, 0, 0, 0.0), (577, 0, 1, 0, 0, 0.0), (577, 0, 2, 0, 0, 0.0)]"
      ]
     },
     "execution_count": 47,
     "metadata": {},
     "output_type": "execute_result"
    }
   ],
   "source": [
    "# troubleshoot query id 576\n",
    "troubleshoot_id = (\"\"\"\n",
    "select query, segment, step, max(rows), min(rows),\n",
    "case when sum(rows) > 0\n",
    "then ((cast(max(rows) -min(rows) as float)*count(rows))/sum(rows))\n",
    "else 0 end\n",
    "from svl_query_report\n",
    "where query = 577\n",
    "group by query, segment, step\n",
    "order by segment, step;\n",
    "\"\"\")\n",
    "\n",
    "cur.execute(troubleshoot_id)\n",
    "record = cur.fetchall()\n",
    "record[0:3]"
   ]
  },
  {
   "cell_type": "markdown",
   "metadata": {},
   "source": [
    "### 10. Data Lake Integration: Create External Tables"
   ]
  },
  {
   "cell_type": "code",
   "execution_count": 50,
   "metadata": {},
   "outputs": [
    {
     "data": {
      "text/plain": [
       "[]"
      ]
     },
     "execution_count": 50,
     "metadata": {},
     "output_type": "execute_result"
    }
   ],
   "source": [
    "# query external tables\n",
    "external_tables_query = (\"\"\"\n",
    "SELECT s.schemaname, databasename, tablename, location, input_format FROM SVV_EXTERNAL_SCHEMAS AS S\n",
    "JOIN SVV_EXTERNAL_TABLES AS T ON S.schemaname = T.schemaname;\n",
    "\"\"\")\n",
    "\n",
    "cur.execute(external_tables_query)\n",
    "record = cur.fetchall()\n",
    "record"
   ]
  },
  {
   "cell_type": "markdown",
   "metadata": {},
   "source": [
    "returns 0 rows because we haven't created it yet"
   ]
  },
  {
   "cell_type": "code",
   "execution_count": 51,
   "metadata": {},
   "outputs": [],
   "source": [
    "# create external tables\n",
    "external_tables_create = (\"\"\"\n",
    "    create external schema spectrum\n",
    "    from data catalog\n",
    "    database 'spectrum_db'\n",
    "    iam_role '{}'\n",
    "    ;\n",
    "\"\"\").format(roleArn)\n",
    "\n",
    "cur.execute(external_tables_create)\n",
    "conn.commit()"
   ]
  },
  {
   "cell_type": "code",
   "execution_count": 52,
   "metadata": {},
   "outputs": [
    {
     "data": {
      "text/plain": [
       "[('spectrum',\n",
       "  'spectrum_db',\n",
       "  'lineitem',\n",
       "  's3://reinvent-hass/historical-parquet/lineitem/',\n",
       "  'org.apache.hadoop.hive.ql.io.parquet.MapredParquetInputFormat'),\n",
       " ('spectrum',\n",
       "  'spectrum_db',\n",
       "  'orders',\n",
       "  's3://reinvent-hass/historical-parquet/orders/',\n",
       "  'org.apache.hadoop.hive.ql.io.parquet.MapredParquetInputFormat')]"
      ]
     },
     "execution_count": 52,
     "metadata": {},
     "output_type": "execute_result"
    }
   ],
   "source": [
    "# query external tables\n",
    "external_tables_query = (\"\"\"\n",
    "SELECT s.schemaname, databasename, tablename, location, input_format FROM SVV_EXTERNAL_SCHEMAS AS S\n",
    "JOIN SVV_EXTERNAL_TABLES AS T ON S.schemaname = T.schemaname;\n",
    "\"\"\")\n",
    "\n",
    "cur.execute(external_tables_query)\n",
    "record = cur.fetchall()\n",
    "record"
   ]
  },
  {
   "cell_type": "code",
   "execution_count": 54,
   "metadata": {},
   "outputs": [
    {
     "data": {
      "text/plain": [
       "[('spectrum',\n",
       "  'lineitem',\n",
       "  '[\"1992-01\"]',\n",
       "  's3://reinvent-hass/historical-parquet/lineitem/l_yearmonth=1992-01/'),\n",
       " ('spectrum',\n",
       "  'lineitem',\n",
       "  '[\"1992-02\"]',\n",
       "  's3://reinvent-hass/historical-parquet/lineitem/l_yearmonth=1992-02/'),\n",
       " ('spectrum',\n",
       "  'lineitem',\n",
       "  '[\"1992-03\"]',\n",
       "  's3://reinvent-hass/historical-parquet/lineitem/l_yearmonth=1992-03/'),\n",
       " ('spectrum',\n",
       "  'lineitem',\n",
       "  '[\"1992-04\"]',\n",
       "  's3://reinvent-hass/historical-parquet/lineitem/l_yearmonth=1992-04/')]"
      ]
     },
     "execution_count": 54,
     "metadata": {},
     "output_type": "execute_result"
    }
   ],
   "source": [
    "# query partitions\n",
    "partitions_query = (\"\"\"\n",
    "SELECT schemaname, tablename, values, location FROM \n",
    "SVV_EXTERNAL_PARTITIONS;\n",
    "\"\"\")\n",
    "\n",
    "cur.execute(partitions_query)\n",
    "record = cur.fetchall()\n",
    "record[0:4]"
   ]
  },
  {
   "cell_type": "markdown",
   "metadata": {},
   "source": [
    "### 11. Query External Tables with Data Warehouse Tables"
   ]
  },
  {
   "cell_type": "code",
   "execution_count": 55,
   "metadata": {},
   "outputs": [
    {
     "data": {
      "text/plain": [
       "[]"
      ]
     },
     "execution_count": 55,
     "metadata": {},
     "output_type": "execute_result"
    }
   ],
   "source": [
    "# check Redshift for cold data - table orders - should be 0\n",
    "cold_query = (\"\"\"\n",
    "select count(*), o_yearmonth from orders\n",
    "GROUP BY o_yearmonth \n",
    "HAVING o_yearmonth < '1996-01'\n",
    "ORDER BY o_yearmonth;\n",
    "\"\"\")\n",
    "\n",
    "cur.execute(cold_query)\n",
    "record = cur.fetchall()\n",
    "record"
   ]
  },
  {
   "cell_type": "code",
   "execution_count": 59,
   "metadata": {},
   "outputs": [
    {
     "data": {
      "text/plain": [
       "[]"
      ]
     },
     "execution_count": 59,
     "metadata": {},
     "output_type": "execute_result"
    }
   ],
   "source": [
    "# check Redshift for cold data - lineaitem - should be 0\n",
    "cold_query2 = (\"\"\"\n",
    "select count(*), l_yearmonth from lineitem\n",
    "GROUP BY l_yearmonth \n",
    "HAVING l_yearmonth < '1996-01'\n",
    "ORDER BY l_yearmonth;\n",
    "\"\"\")\n",
    "\n",
    "cur.execute(cold_query2)\n",
    "record = cur.fetchall()\n",
    "record"
   ]
  },
  {
   "cell_type": "code",
   "execution_count": 61,
   "metadata": {},
   "outputs": [
    {
     "data": {
      "text/plain": [
       "[(1932789, '1992-01'),\n",
       " (1806307, '1992-02'),\n",
       " (1930727, '1992-03'),\n",
       " (1869426, '1992-04')]"
      ]
     },
     "execution_count": 61,
     "metadata": {},
     "output_type": "execute_result"
    }
   ],
   "source": [
    "# check S3 for cold data - table orders - should be full\n",
    "cold_S3_query = (\"\"\"\n",
    "select count(*), o_yearmonth from spectrum.orders\n",
    "GROUP BY o_yearmonth \n",
    "HAVING o_yearmonth < '1996-01'\n",
    "ORDER BY o_yearmonth;\n",
    "\"\"\")\n",
    "\n",
    "cur.execute(cold_S3_query)\n",
    "record = cur.fetchall()\n",
    "record[0:4]"
   ]
  },
  {
   "cell_type": "code",
   "execution_count": 62,
   "metadata": {},
   "outputs": [
    {
     "data": {
      "text/plain": [
       "[(958726, '1992-01'),\n",
       " (2690170, '1992-02'),\n",
       " (4794764, '1992-03'),\n",
       " (6520179, '1992-04')]"
      ]
     },
     "execution_count": 62,
     "metadata": {},
     "output_type": "execute_result"
    }
   ],
   "source": [
    "# check S3 for cold data - lineitem - should be full\n",
    "cold_S3_query2 = (\"\"\"\n",
    "select count(*), l_yearmonth from spectrum.lineitem\n",
    "GROUP BY l_yearmonth \n",
    "HAVING l_yearmonth < '1996-01'\n",
    "ORDER BY l_yearmonth;\n",
    "\"\"\")\n",
    "\n",
    "cur.execute(cold_S3_query2)\n",
    "record = cur.fetchall()\n",
    "record[0:4]"
   ]
  },
  {
   "cell_type": "code",
   "execution_count": 63,
   "metadata": {},
   "outputs": [
    {
     "data": {
      "text/plain": [
       "[(441.7525,), (440.5833,), (812.934,), (203.808,)]"
      ]
     },
     "execution_count": 63,
     "metadata": {},
     "output_type": "execute_result"
    }
   ],
   "source": [
    "# revenue based on discount applied\n",
    "revenue_query = (\"\"\"\n",
    "SELECT (l_extendedprice * l_discount) as revenue\n",
    "FROM spectrum.lineitem\n",
    "   WHERE l_yearmonth <= '1993-01'\n",
    "AND l_discount between 0.04 - 0.01 and 0.04 + 0.01\n",
    "   AND l_quantity < 24;\n",
    "\"\"\")\n",
    "\n",
    "cur.execute(revenue_query)\n",
    "record = cur.fetchall()\n",
    "record[0:4]"
   ]
  },
  {
   "cell_type": "markdown",
   "metadata": {},
   "source": [
    "drop_table = (\"\"\"\n",
    "DROP VIEW if exists vw_orders;\n",
    "\"\"\")\n",
    "\n",
    "cur.execute(drop_table)\n",
    "conn.commit()"
   ]
  },
  {
   "cell_type": "code",
   "execution_count": 75,
   "metadata": {},
   "outputs": [],
   "source": [
    "# create view object to use - orders\n",
    "orders_view_create = (\"\"\"\n",
    "CREATE VIEW vw_orders as \n",
    "select o_orderkey, o_custkey, o_orderstatus, o_totalprice, o_orderdate, o_orderpriority, \n",
    "o_shippriority, o_yearmonth FROM public.orders\n",
    "UNION ALL\n",
    "select o_orderkey, o_custkey, o_orderstatus, o_totalprice, CAST(o_orderdate AS date) as o_orderdate, o_orderpriority,\n",
    "o_shippriority, o_yearmonth from spectrum.orders \n",
    "with no schema binding;\n",
    "\"\"\")\n",
    "\n",
    "cur.execute(orders_view_create)\n",
    "conn.commit()"
   ]
  },
  {
   "cell_type": "code",
   "execution_count": 76,
   "metadata": {},
   "outputs": [],
   "source": [
    "# create view object to use - lineitem\n",
    "lineitem_view_create = (\"\"\"\n",
    "CREATE VIEW vw_lineitem as \n",
    "select  l_orderkey, l_partkey, l_suppkey,l_linenumber, l_quantity, l_discount, l_tax, l_returnflag, l_extendedprice, l_linestatus, l_shipdate, l_yearmonth, l_commitdate, l_receiptdate\n",
    "FROM public.lineitem \n",
    "UNION ALL\n",
    "select  l_orderkey, l_partkey, l_suppkey,l_linenumber, l_quantity , l_discount, l_tax,  l_returnflag, l_extendedprice, l_linestatus, CAST(l_shipdate AS date) as l_shipdate,  l_yearmonth, CAST(l_commitdate AS date) as l_commitdate, CAST(l_receiptdate AS date) as l_receiptdate \n",
    "FROM spectrum.lineitem \n",
    "with no schema binding;\n",
    "\"\"\")\n",
    "\n",
    "cur.execute(lineitem_view_create)\n",
    "conn.commit()"
   ]
  },
  {
   "cell_type": "code",
   "execution_count": 77,
   "metadata": {},
   "outputs": [
    {
     "data": {
      "text/plain": [
       "[('INDIA                    ',\n",
       "  'INDONESIA                ',\n",
       "  1995,\n",
       "  5305615428.06398),\n",
       " ('INDIA                    ',\n",
       "  'INDONESIA                ',\n",
       "  1996,\n",
       "  5312936406.8952),\n",
       " ('INDONESIA                ',\n",
       "  'INDIA                    ',\n",
       "  1995,\n",
       "  5231314826.47451),\n",
       " ('INDONESIA                ',\n",
       "  'INDIA                    ',\n",
       "  1996,\n",
       "  5254675170.80791)]"
      ]
     },
     "execution_count": 77,
     "metadata": {},
     "output_type": "execute_result"
    }
   ],
   "source": [
    "# find total revenue in India & Indonesia by year - will take about 3 mins\n",
    "ind_revenue_query = (\"\"\"\n",
    "select\n",
    "\tsupp_nation,\n",
    "\tcust_nation,\n",
    "\tl_year,\n",
    "\tsum(volume) as revenue\n",
    "from\n",
    "\t(\n",
    "\t\tselect\n",
    "\t\t\tn1.n_name as supp_nation,\n",
    "\t\t\tn2.n_name as cust_nation,\n",
    "\t\t\textract(year from l_shipdate) as l_year,\n",
    "\t\t\tl_extendedprice * (1 - l_discount) as volume\n",
    "\t\tfrom\n",
    "\t\t\tsupplier,\n",
    "\t\t\tvw_lineitem,\n",
    "\t\t\tvw_orders,\n",
    "\t\t\tcustomer,\n",
    "\t\t\tnation n1,\n",
    "\t\t\tnation n2\n",
    "\t\twhere\n",
    "\t\t\ts_suppkey = l_suppkey\n",
    "\t\t\tand o_orderkey = l_orderkey\n",
    "\t\t\tand c_custkey = o_custkey\n",
    "\t\t\tand s_nationkey = n1.n_nationkey\n",
    "\t\t\tand c_nationkey = n2.n_nationkey\n",
    "\t\t\tand (\n",
    "\t\t\t\t(n1.n_name = 'INDIA' and n2.n_name = 'INDONESIA')\n",
    "\t\t\t\tor (n1.n_name = 'INDONESIA' and n2.n_name = 'INDIA')\n",
    "\t\t\t)\n",
    "\t\t\tand l_shipdate between date '1995-01-01' and date '1996-12-31'\n",
    "\t) as shipping\n",
    "group by\n",
    "\tsupp_nation,\n",
    "\tcust_nation,\n",
    "\tl_year\n",
    "order by\n",
    "\tsupp_nation,\n",
    "\tcust_nation,\n",
    "\tl_year;\n",
    "\"\"\")\n",
    "\n",
    "cur.execute(ind_revenue_query)\n",
    "record = cur.fetchall()\n",
    "record[0:4]"
   ]
  },
  {
   "cell_type": "code",
   "execution_count": 79,
   "metadata": {},
   "outputs": [
    {
     "data": {
      "text/plain": [
       "[(501322081, 568600.7029, '1995-02-04', 0),\n",
       " (108122085, 495350.7867, '1995-02-09', 0),\n",
       " (327657316, 494510.7084, '1995-02-22', 0),\n",
       " (139528640, 488871.3442, '1995-02-27', 0),\n",
       " (320381856, 488540.043, '1995-02-02', 0),\n",
       " (110804800, 476338.6362, '1995-02-27', 0),\n",
       " (84521600, 473649.0707, '1995-01-23', 0),\n",
       " (184745158, 469289.5138, '1995-02-13', 0),\n",
       " (493528132, 468488.9059, '1995-02-26', 0),\n",
       " (4080544, 467373.8368, '1995-02-22', 0)]"
      ]
     },
     "execution_count": 79,
     "metadata": {},
     "output_type": "execute_result"
    }
   ],
   "source": [
    "# join query that didn't work above... but with Redshift and S3\n",
    "# now it's working - it didn't work above because Redshift no longer had the cold data\n",
    "join_query = (\"\"\"\n",
    "select\n",
    "\tl_orderkey,\n",
    "\tsum(l_extendedprice * (1 - l_discount)) as revenue,\n",
    "\to_orderdate,\n",
    "\to_shippriority\n",
    "from\n",
    "\tcustomer,\n",
    "\tspectrum.orders,\n",
    "\tspectrum.lineitem\n",
    "where\n",
    "\tc_mktsegment = 'HOUSEHOLD'\n",
    "\tand c_custkey = o_custkey\n",
    "\tand l_orderkey = o_orderkey\n",
    "\tand o_orderdate < date '1995-03-02'\n",
    "\tand l_shipdate > date '1995-03-02'\n",
    "group by\n",
    "\tl_orderkey,\n",
    "\to_orderdate,\n",
    "\to_shippriority\n",
    "order by\n",
    "\trevenue desc,\n",
    "\to_orderdate\n",
    "limit 10;\n",
    "\"\"\")\n",
    "\n",
    "cur.execute(join_query)\n",
    "record = cur.fetchall()\n",
    "record"
   ]
  },
  {
   "cell_type": "code",
   "execution_count": 81,
   "metadata": {},
   "outputs": [
    {
     "data": {
      "text/plain": [
       "[('A',\n",
       "  'F',\n",
       "  2609850918.0,\n",
       "  3913462493567.71,\n",
       "  Decimal('3717775321347.18'),\n",
       "  Decimal('3866493098948.72'),\n",
       "  25.4995861210077,\n",
       "  38236.5418644435,\n",
       "  0.0500059499502516,\n",
       "  102348756),\n",
       " ('R',\n",
       "  'F',\n",
       "  2610153818.0,\n",
       "  3913819612775.54,\n",
       "  Decimal('3718110804441.04'),\n",
       "  Decimal('3866838493708.27'),\n",
       "  25.5014403263554,\n",
       "  38238.3737751485,\n",
       "  0.0500037276805839,\n",
       "  102353192)]"
      ]
     },
     "execution_count": 81,
     "metadata": {},
     "output_type": "execute_result"
    }
   ],
   "source": [
    "# summarizing lineitems\n",
    "agg_query = (\"\"\"\n",
    "select\n",
    "\tl_returnflag,\n",
    "\tl_linestatus,\n",
    "\tsum(l_quantity) as sum_qty,\n",
    "\tsum(l_extendedprice) as sum_base_price,\n",
    "\tsum(l_extendedprice * (1 - l_discount))::decimal(38,2) as sum_disc_price,\n",
    "\tsum(l_extendedprice::decimal(38,2) * (1 - l_discount) * (1 + l_tax))::decimal(38,2) as sum_charge,\n",
    "\tavg(l_quantity) as avg_qty,\n",
    "\tavg(l_extendedprice) as avg_price,\n",
    "\tavg(l_discount) as avg_disc,\n",
    "\tcount(*) as count_order\n",
    "from\n",
    "\tspectrum.lineitem\n",
    "where\n",
    "\tl_yearmonth < '1994-06'\n",
    "group by\n",
    "\tl_returnflag,\n",
    "\tl_linestatus\n",
    "order by\n",
    "\tl_returnflag,\n",
    "\tl_linestatus;\n",
    "\"\"\")\n",
    "\n",
    "cur.execute(agg_query)\n",
    "record = cur.fetchall()\n",
    "record[0:4]"
   ]
  },
  {
   "cell_type": "code",
   "execution_count": 83,
   "metadata": {},
   "outputs": [
    {
     "data": {
      "text/plain": [
       "[('XN Merge  (cost=1001218607570.04..1001218607670.04 rows=40000 width=1104)',),\n",
       " ('  Merge Key: lineitem.derived_col1, lineitem.derived_col2',),\n",
       " ('  ->  XN Network  (cost=1001218607570.04..1001218607670.04 rows=40000 width=1104)',),\n",
       " ('        Send to leader',),\n",
       " ('        ->  XN Sort  (cost=1001218607570.04..1001218607670.04 rows=40000 width=1104)',),\n",
       " ('              Sort Key: lineitem.derived_col1, lineitem.derived_col2',),\n",
       " ('              ->  XN HashAggregate  (cost=1218603012.50..1218604512.50 rows=40000 width=1104)',),\n",
       " ('                    ->  XN Partition Loop  (cost=750000000.00..884603012.50 rows=13360000000 width=1104)',),\n",
       " ('                          ->  XN Seq Scan PartitionInfo of spectrum.lineitem  (cost=0.00..12.50 rows=334 width=0)',),\n",
       " (\"                                Filter: ((l_yearmonth)::text < '1994-06'::text)\",),\n",
       " ('                          ->  XN S3 Query Scan lineitem  (cost=375000000.00..375401800.00 rows=40000000 width=1104)',),\n",
       " ('                                ->  S3 HashAggregate  (cost=375000000.00..375001800.00 rows=40000000 width=1064)',),\n",
       " ('                                      ->  S3 Seq Scan spectrum.lineitem location:\"s3://reinvent-hass/historical-parquet/lineitem/\" format:PARQUET  (cost=0.00..100000000.00 rows=10000000000 width=1064)',)]"
      ]
     },
     "execution_count": 83,
     "metadata": {},
     "output_type": "execute_result"
    }
   ],
   "source": [
    "# run explain on it\n",
    "explain_query = (\"\"\"\n",
    "EXPLAIN (select\n",
    "\tl_returnflag,\n",
    "\tl_linestatus,\n",
    "\tsum(l_quantity) as sum_qty,\n",
    "\tsum(l_extendedprice) as sum_base_price,\n",
    "\tsum(l_extendedprice * (1 - l_discount))::decimal(38,2) as sum_disc_price,\n",
    "\tsum(l_extendedprice::decimal(38,2) * (1 - l_discount) * (1 + l_tax))::decimal(38,2) as sum_charge,\n",
    "\tavg(l_quantity) as avg_qty,\n",
    "\tavg(l_extendedprice) as avg_price,\n",
    "\tavg(l_discount) as avg_disc,\n",
    "\tcount(*) as count_order\n",
    "from\n",
    "\tspectrum.lineitem\n",
    "where\n",
    "\tl_yearmonth < '1994-06'\n",
    "group by\n",
    "\tl_returnflag,\n",
    "\tl_linestatus\n",
    "order by\n",
    "\tl_returnflag,\n",
    "\tl_linestatus);\n",
    "\"\"\")\n",
    "\n",
    "cur.execute(explain_query)\n",
    "record = cur.fetchall()\n",
    "record"
   ]
  },
  {
   "cell_type": "code",
   "execution_count": 84,
   "metadata": {},
   "outputs": [],
   "source": [
    "conn.close()"
   ]
  },
  {
   "cell_type": "code",
   "execution_count": null,
   "metadata": {},
   "outputs": [],
   "source": []
  }
 ],
 "metadata": {
  "kernelspec": {
   "display_name": "Python 3",
   "language": "python",
   "name": "python3"
  },
  "language_info": {
   "codemirror_mode": {
    "name": "ipython",
    "version": 3
   },
   "file_extension": ".py",
   "mimetype": "text/x-python",
   "name": "python",
   "nbconvert_exporter": "python",
   "pygments_lexer": "ipython3",
   "version": "3.7.1"
  }
 },
 "nbformat": 4,
 "nbformat_minor": 2
}
